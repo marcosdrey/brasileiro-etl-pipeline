{
 "cells": [
  {
   "cell_type": "code",
   "execution_count": null,
   "metadata": {},
   "outputs": [],
   "source": [
    "import psycopg2\n",
    "import os\n",
    "from dotenv import load_dotenv\n",
    "\n",
    "\n",
    "load_dotenv()\n",
    "\n",
    "\n",
    "conn = psycopg2.connect(\n",
    "    host=os.getenv(\"POSTGRES_HOST\"),\n",
    "    port=os.getenv(\"POSTGRES_PORT\"),\n",
    "    user=os.getenv(\"POSTGRES_USER\"),\n",
    "    password=os.getenv(\"POSTGRES_PASSWORD\"),\n",
    "    dbname=os.getenv(\"POSTGRES_DB\")\n",
    ")\n"
   ]
  },
  {
   "cell_type": "code",
   "execution_count": 5,
   "metadata": {},
   "outputs": [],
   "source": [
    "cursor = conn.cursor()"
   ]
  },
  {
   "cell_type": "code",
   "execution_count": 10,
   "metadata": {},
   "outputs": [
    {
     "name": "stdout",
     "output_type": "stream",
     "text": [
      "('PostgreSQL 14.17 on x86_64-pc-linux-musl, compiled by gcc (Alpine 14.2.0) 14.2.0, 64-bit',)\n"
     ]
    }
   ],
   "source": [
    "cursor.execute(\"SELECT version();\")\n",
    "print(cursor.fetchone())"
   ]
  },
  {
   "cell_type": "code",
   "execution_count": 36,
   "metadata": {},
   "outputs": [],
   "source": [
    "cursor.execute(\"\"\"\n",
    "CREATE TABLE IF NOT EXISTS brasileirao_data (\n",
    "    id SERIAL PRIMARY KEY,\n",
    "    placement INT NOT NULL,\n",
    "    name VARCHAR(255) NOT NULL,\n",
    "    points INT NOT NULL,\n",
    "    total_games INT NOT NULL,\n",
    "    wins INT NOT NULL,\n",
    "    draws INT NOT NULL,\n",
    "    loses INT NOT NULL,\n",
    "    goals_scored INT NOT NULL,\n",
    "    goals_conceded INT NOT NULL,\n",
    "    goals_difference INT NOT NULL,\n",
    "    season INT NOT NULL,\n",
    "    winning_percentage NUMERIC(5,2) NOT NULL\n",
    ")\n",
    "\"\"\")\n",
    "conn.commit()"
   ]
  },
  {
   "cell_type": "code",
   "execution_count": 37,
   "metadata": {},
   "outputs": [
    {
     "data": {
      "text/html": [
       "<div>\n",
       "<style scoped>\n",
       "    .dataframe tbody tr th:only-of-type {\n",
       "        vertical-align: middle;\n",
       "    }\n",
       "\n",
       "    .dataframe tbody tr th {\n",
       "        vertical-align: top;\n",
       "    }\n",
       "\n",
       "    .dataframe thead th {\n",
       "        text-align: right;\n",
       "    }\n",
       "</style>\n",
       "<table border=\"1\" class=\"dataframe\">\n",
       "  <thead>\n",
       "    <tr style=\"text-align: right;\">\n",
       "      <th></th>\n",
       "      <th>placement</th>\n",
       "      <th>name</th>\n",
       "      <th>points</th>\n",
       "      <th>total_games</th>\n",
       "      <th>wins</th>\n",
       "      <th>draws</th>\n",
       "      <th>loses</th>\n",
       "      <th>goals_scored</th>\n",
       "      <th>goals_conceded</th>\n",
       "      <th>goals_difference</th>\n",
       "      <th>season</th>\n",
       "      <th>winning_percentage</th>\n",
       "    </tr>\n",
       "  </thead>\n",
       "  <tbody>\n",
       "    <tr>\n",
       "      <th>0</th>\n",
       "      <td>1</td>\n",
       "      <td>Cruzeiro</td>\n",
       "      <td>100</td>\n",
       "      <td>46</td>\n",
       "      <td>31</td>\n",
       "      <td>7</td>\n",
       "      <td>8</td>\n",
       "      <td>102</td>\n",
       "      <td>47</td>\n",
       "      <td>55</td>\n",
       "      <td>2003</td>\n",
       "      <td>72.46</td>\n",
       "    </tr>\n",
       "    <tr>\n",
       "      <th>1</th>\n",
       "      <td>2</td>\n",
       "      <td>Santos</td>\n",
       "      <td>87</td>\n",
       "      <td>46</td>\n",
       "      <td>25</td>\n",
       "      <td>12</td>\n",
       "      <td>9</td>\n",
       "      <td>93</td>\n",
       "      <td>60</td>\n",
       "      <td>33</td>\n",
       "      <td>2003</td>\n",
       "      <td>63.04</td>\n",
       "    </tr>\n",
       "    <tr>\n",
       "      <th>2</th>\n",
       "      <td>3</td>\n",
       "      <td>São Paulo</td>\n",
       "      <td>78</td>\n",
       "      <td>46</td>\n",
       "      <td>22</td>\n",
       "      <td>12</td>\n",
       "      <td>12</td>\n",
       "      <td>81</td>\n",
       "      <td>67</td>\n",
       "      <td>14</td>\n",
       "      <td>2003</td>\n",
       "      <td>56.52</td>\n",
       "    </tr>\n",
       "    <tr>\n",
       "      <th>3</th>\n",
       "      <td>4</td>\n",
       "      <td>São Caetano</td>\n",
       "      <td>74</td>\n",
       "      <td>46</td>\n",
       "      <td>19</td>\n",
       "      <td>14</td>\n",
       "      <td>13</td>\n",
       "      <td>53</td>\n",
       "      <td>37</td>\n",
       "      <td>16</td>\n",
       "      <td>2003</td>\n",
       "      <td>53.62</td>\n",
       "    </tr>\n",
       "    <tr>\n",
       "      <th>4</th>\n",
       "      <td>5</td>\n",
       "      <td>Coritiba</td>\n",
       "      <td>73</td>\n",
       "      <td>46</td>\n",
       "      <td>21</td>\n",
       "      <td>10</td>\n",
       "      <td>15</td>\n",
       "      <td>67</td>\n",
       "      <td>58</td>\n",
       "      <td>9</td>\n",
       "      <td>2003</td>\n",
       "      <td>52.90</td>\n",
       "    </tr>\n",
       "  </tbody>\n",
       "</table>\n",
       "</div>"
      ],
      "text/plain": [
       "   placement         name  points  total_games  wins  draws  loses  \\\n",
       "0          1     Cruzeiro     100           46    31      7      8   \n",
       "1          2       Santos      87           46    25     12      9   \n",
       "2          3    São Paulo      78           46    22     12     12   \n",
       "3          4  São Caetano      74           46    19     14     13   \n",
       "4          5     Coritiba      73           46    21     10     15   \n",
       "\n",
       "   goals_scored  goals_conceded  goals_difference  season  winning_percentage  \n",
       "0           102              47                55    2003               72.46  \n",
       "1            93              60                33    2003               63.04  \n",
       "2            81              67                14    2003               56.52  \n",
       "3            53              37                16    2003               53.62  \n",
       "4            67              58                 9    2003               52.90  "
      ]
     },
     "execution_count": 37,
     "metadata": {},
     "output_type": "execute_result"
    }
   ],
   "source": [
    "import pandas as pd\n",
    "\n",
    "\n",
    "transformed_data_path = \"../data/transformed.csv\"\n",
    "df = pd.read_csv(transformed_data_path)\n",
    "df.head()"
   ]
  },
  {
   "cell_type": "code",
   "execution_count": 38,
   "metadata": {},
   "outputs": [
    {
     "data": {
      "text/plain": [
       "[(1, 'Cruzeiro', 100, 46, 31, 7, 8, 102, 47, 55, 2003, 72.46),\n",
       " (2, 'Santos', 87, 46, 25, 12, 9, 93, 60, 33, 2003, 63.04),\n",
       " (3, 'São Paulo', 78, 46, 22, 12, 12, 81, 67, 14, 2003, 56.52)]"
      ]
     },
     "execution_count": 38,
     "metadata": {},
     "output_type": "execute_result"
    }
   ],
   "source": [
    "clubs_list = [tuple(row) for i, row in df.iterrows()]\n",
    "clubs_list[:3]"
   ]
  },
  {
   "cell_type": "code",
   "execution_count": 39,
   "metadata": {},
   "outputs": [],
   "source": [
    "query = \"INSERT INTO brasileirao_data (placement, name, points, total_games, wins, draws, loses, goals_scored, goals_conceded, goals_difference, season, winning_percentage) VALUES (%s,%s,%s,%s,%s,%s,%s,%s,%s,%s,%s,%s);\""
   ]
  },
  {
   "cell_type": "code",
   "execution_count": 40,
   "metadata": {},
   "outputs": [],
   "source": [
    "cursor.executemany(query, clubs_list)\n",
    "conn.commit()"
   ]
  },
  {
   "cell_type": "code",
   "execution_count": 41,
   "metadata": {},
   "outputs": [
    {
     "name": "stdout",
     "output_type": "stream",
     "text": [
      "430 rows inserted\n"
     ]
    }
   ],
   "source": [
    "print(cursor.rowcount, \"rows inserted\")"
   ]
  },
  {
   "cell_type": "code",
   "execution_count": 42,
   "metadata": {},
   "outputs": [
    {
     "data": {
      "text/plain": [
       "(430, 12)"
      ]
     },
     "execution_count": 42,
     "metadata": {},
     "output_type": "execute_result"
    }
   ],
   "source": [
    "df.shape"
   ]
  },
  {
   "cell_type": "code",
   "execution_count": 43,
   "metadata": {},
   "outputs": [
    {
     "name": "stdout",
     "output_type": "stream",
     "text": [
      "(1, 1, 'Cruzeiro', 100, 46, 31, 7, 8, 102, 47, 55, 2003, Decimal('72.46'))\n",
      "(2, 2, 'Santos', 87, 46, 25, 12, 9, 93, 60, 33, 2003, Decimal('63.04'))\n",
      "(3, 3, 'São Paulo', 78, 46, 22, 12, 12, 81, 67, 14, 2003, Decimal('56.52'))\n",
      "(4, 4, 'São Caetano', 74, 46, 19, 14, 13, 53, 37, 16, 2003, Decimal('53.62'))\n",
      "(5, 5, 'Coritiba', 73, 46, 21, 10, 15, 67, 58, 9, 2003, Decimal('52.90'))\n"
     ]
    }
   ],
   "source": [
    "cursor.execute(\"SELECT * FROM brasileirao_data LIMIT 5\")\n",
    "\n",
    "for row in cursor:\n",
    "    print(row)"
   ]
  },
  {
   "cell_type": "code",
   "execution_count": 44,
   "metadata": {},
   "outputs": [],
   "source": [
    "conn.close()"
   ]
  },
  {
   "cell_type": "code",
   "execution_count": null,
   "metadata": {},
   "outputs": [],
   "source": []
  }
 ],
 "metadata": {
  "kernelspec": {
   "display_name": "brasileirao_etl",
   "language": "python",
   "name": "brasileirao_etl"
  },
  "language_info": {
   "codemirror_mode": {
    "name": "ipython",
    "version": 3
   },
   "file_extension": ".py",
   "mimetype": "text/x-python",
   "name": "python",
   "nbconvert_exporter": "python",
   "pygments_lexer": "ipython3",
   "version": "3.13.2"
  }
 },
 "nbformat": 4,
 "nbformat_minor": 2
}
