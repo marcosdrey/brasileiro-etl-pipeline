{
 "cells": [
  {
   "cell_type": "code",
   "execution_count": null,
   "metadata": {},
   "outputs": [],
   "source": [
    "import pandas as pd\n",
    "import csv"
   ]
  },
  {
   "cell_type": "markdown",
   "metadata": {},
   "source": [
    "### Import raw data"
   ]
  },
  {
   "cell_type": "code",
   "execution_count": 2,
   "metadata": {},
   "outputs": [
    {
     "data": {
      "text/html": [
       "<div>\n",
       "<style scoped>\n",
       "    .dataframe tbody tr th:only-of-type {\n",
       "        vertical-align: middle;\n",
       "    }\n",
       "\n",
       "    .dataframe tbody tr th {\n",
       "        vertical-align: top;\n",
       "    }\n",
       "\n",
       "    .dataframe thead th {\n",
       "        text-align: right;\n",
       "    }\n",
       "</style>\n",
       "<table border=\"1\" class=\"dataframe\">\n",
       "  <thead>\n",
       "    <tr style=\"text-align: right;\">\n",
       "      <th></th>\n",
       "      <th>placement</th>\n",
       "      <th>name</th>\n",
       "      <th>points</th>\n",
       "      <th>total_games</th>\n",
       "      <th>wins</th>\n",
       "      <th>draws</th>\n",
       "      <th>loses</th>\n",
       "      <th>goals_scored</th>\n",
       "      <th>goals_conceded</th>\n",
       "      <th>goals_difference</th>\n",
       "      <th>season</th>\n",
       "    </tr>\n",
       "  </thead>\n",
       "  <tbody>\n",
       "    <tr>\n",
       "      <th>0</th>\n",
       "      <td>1</td>\n",
       "      <td>Cruzeiro</td>\n",
       "      <td>100</td>\n",
       "      <td>46</td>\n",
       "      <td>31</td>\n",
       "      <td>7</td>\n",
       "      <td>8</td>\n",
       "      <td>102</td>\n",
       "      <td>47</td>\n",
       "      <td>55</td>\n",
       "      <td>2003</td>\n",
       "    </tr>\n",
       "    <tr>\n",
       "      <th>1</th>\n",
       "      <td>2</td>\n",
       "      <td>Santos</td>\n",
       "      <td>87</td>\n",
       "      <td>46</td>\n",
       "      <td>25</td>\n",
       "      <td>12</td>\n",
       "      <td>9</td>\n",
       "      <td>93</td>\n",
       "      <td>60</td>\n",
       "      <td>33</td>\n",
       "      <td>2003</td>\n",
       "    </tr>\n",
       "    <tr>\n",
       "      <th>2</th>\n",
       "      <td>3</td>\n",
       "      <td>São Paulo</td>\n",
       "      <td>78</td>\n",
       "      <td>46</td>\n",
       "      <td>22</td>\n",
       "      <td>12</td>\n",
       "      <td>12</td>\n",
       "      <td>81</td>\n",
       "      <td>67</td>\n",
       "      <td>14</td>\n",
       "      <td>2003</td>\n",
       "    </tr>\n",
       "    <tr>\n",
       "      <th>3</th>\n",
       "      <td>4</td>\n",
       "      <td>São Caetano</td>\n",
       "      <td>74</td>\n",
       "      <td>46</td>\n",
       "      <td>19</td>\n",
       "      <td>14</td>\n",
       "      <td>13</td>\n",
       "      <td>53</td>\n",
       "      <td>37</td>\n",
       "      <td>16</td>\n",
       "      <td>2003</td>\n",
       "    </tr>\n",
       "    <tr>\n",
       "      <th>4</th>\n",
       "      <td>5</td>\n",
       "      <td>Coritiba</td>\n",
       "      <td>73</td>\n",
       "      <td>46</td>\n",
       "      <td>21</td>\n",
       "      <td>10</td>\n",
       "      <td>15</td>\n",
       "      <td>67</td>\n",
       "      <td>58</td>\n",
       "      <td>9</td>\n",
       "      <td>2003</td>\n",
       "    </tr>\n",
       "  </tbody>\n",
       "</table>\n",
       "</div>"
      ],
      "text/plain": [
       "   placement         name  points  total_games  wins  draws  loses  \\\n",
       "0          1     Cruzeiro     100           46    31      7      8   \n",
       "1          2       Santos      87           46    25     12      9   \n",
       "2          3    São Paulo      78           46    22     12     12   \n",
       "3          4  São Caetano      74           46    19     14     13   \n",
       "4          5     Coritiba      73           46    21     10     15   \n",
       "\n",
       "   goals_scored  goals_conceded  goals_difference  season  \n",
       "0           102              47                55    2003  \n",
       "1            93              60                33    2003  \n",
       "2            81              67                14    2003  \n",
       "3            53              37                16    2003  \n",
       "4            67              58                 9    2003  "
      ]
     },
     "execution_count": 2,
     "metadata": {},
     "output_type": "execute_result"
    }
   ],
   "source": [
    "raw_csv_path = \"../data/raw.csv\"\n",
    "df = pd.read_csv(raw_csv_path)\n",
    "df.head()"
   ]
  },
  {
   "cell_type": "markdown",
   "metadata": {},
   "source": [
    "### Check DataFrame shape and infos\n",
    "\n",
    "The number of rows will depend directly on the range of seasons that the data has. Furthermore, it's important to say that 2003 and 2004 seasons had **24 clubs**, 2005 had **22 clubs** and, since 2006, Campeonato Brasileiro has been played with **20 clubs**."
   ]
  },
  {
   "cell_type": "code",
   "execution_count": 3,
   "metadata": {},
   "outputs": [
    {
     "data": {
      "text/plain": [
       "(430, 11)"
      ]
     },
     "execution_count": 3,
     "metadata": {},
     "output_type": "execute_result"
    }
   ],
   "source": [
    "df.shape"
   ]
  },
  {
   "cell_type": "code",
   "execution_count": 6,
   "metadata": {},
   "outputs": [
    {
     "name": "stdout",
     "output_type": "stream",
     "text": [
      "<class 'pandas.core.frame.DataFrame'>\n",
      "RangeIndex: 430 entries, 0 to 429\n",
      "Data columns (total 11 columns):\n",
      " #   Column            Non-Null Count  Dtype \n",
      "---  ------            --------------  ----- \n",
      " 0   placement         430 non-null    int64 \n",
      " 1   name              430 non-null    object\n",
      " 2   points            430 non-null    int64 \n",
      " 3   total_games       430 non-null    int64 \n",
      " 4   wins              430 non-null    int64 \n",
      " 5   draws             430 non-null    int64 \n",
      " 6   loses             430 non-null    int64 \n",
      " 7   goals_scored      430 non-null    int64 \n",
      " 8   goals_conceded    430 non-null    int64 \n",
      " 9   goals_difference  430 non-null    int64 \n",
      " 10  season            430 non-null    int64 \n",
      "dtypes: int64(10), object(1)\n",
      "memory usage: 37.1+ KB\n"
     ]
    }
   ],
   "source": [
    "df.info()"
   ]
  },
  {
   "cell_type": "markdown",
   "metadata": {},
   "source": [
    "### Check if total number of matches, goal difference and points stats are correct"
   ]
  },
  {
   "cell_type": "code",
   "execution_count": 9,
   "metadata": {},
   "outputs": [
    {
     "data": {
      "text/html": [
       "<div>\n",
       "<style scoped>\n",
       "    .dataframe tbody tr th:only-of-type {\n",
       "        vertical-align: middle;\n",
       "    }\n",
       "\n",
       "    .dataframe tbody tr th {\n",
       "        vertical-align: top;\n",
       "    }\n",
       "\n",
       "    .dataframe thead th {\n",
       "        text-align: right;\n",
       "    }\n",
       "</style>\n",
       "<table border=\"1\" class=\"dataframe\">\n",
       "  <thead>\n",
       "    <tr style=\"text-align: right;\">\n",
       "      <th></th>\n",
       "      <th>placement</th>\n",
       "      <th>name</th>\n",
       "      <th>points</th>\n",
       "      <th>total_games</th>\n",
       "      <th>wins</th>\n",
       "      <th>draws</th>\n",
       "      <th>loses</th>\n",
       "      <th>goals_scored</th>\n",
       "      <th>goals_conceded</th>\n",
       "      <th>goals_difference</th>\n",
       "      <th>season</th>\n",
       "    </tr>\n",
       "  </thead>\n",
       "  <tbody>\n",
       "  </tbody>\n",
       "</table>\n",
       "</div>"
      ],
      "text/plain": [
       "Empty DataFrame\n",
       "Columns: [placement, name, points, total_games, wins, draws, loses, goals_scored, goals_conceded, goals_difference, season]\n",
       "Index: []"
      ]
     },
     "execution_count": 9,
     "metadata": {},
     "output_type": "execute_result"
    }
   ],
   "source": [
    "df[df['total_games'] != df.wins+df.draws+df.loses]"
   ]
  },
  {
   "cell_type": "code",
   "execution_count": 10,
   "metadata": {},
   "outputs": [
    {
     "data": {
      "text/html": [
       "<div>\n",
       "<style scoped>\n",
       "    .dataframe tbody tr th:only-of-type {\n",
       "        vertical-align: middle;\n",
       "    }\n",
       "\n",
       "    .dataframe tbody tr th {\n",
       "        vertical-align: top;\n",
       "    }\n",
       "\n",
       "    .dataframe thead th {\n",
       "        text-align: right;\n",
       "    }\n",
       "</style>\n",
       "<table border=\"1\" class=\"dataframe\">\n",
       "  <thead>\n",
       "    <tr style=\"text-align: right;\">\n",
       "      <th></th>\n",
       "      <th>placement</th>\n",
       "      <th>name</th>\n",
       "      <th>points</th>\n",
       "      <th>total_games</th>\n",
       "      <th>wins</th>\n",
       "      <th>draws</th>\n",
       "      <th>loses</th>\n",
       "      <th>goals_scored</th>\n",
       "      <th>goals_conceded</th>\n",
       "      <th>goals_difference</th>\n",
       "      <th>season</th>\n",
       "    </tr>\n",
       "  </thead>\n",
       "  <tbody>\n",
       "    <tr>\n",
       "      <th>19</th>\n",
       "      <td>20</td>\n",
       "      <td>Grêmio</td>\n",
       "      <td>50</td>\n",
       "      <td>46</td>\n",
       "      <td>13</td>\n",
       "      <td>11</td>\n",
       "      <td>22</td>\n",
       "      <td>54</td>\n",
       "      <td>68</td>\n",
       "      <td>-12</td>\n",
       "      <td>2003</td>\n",
       "    </tr>\n",
       "    <tr>\n",
       "      <th>35</th>\n",
       "      <td>12</td>\n",
       "      <td>Coritiba</td>\n",
       "      <td>62</td>\n",
       "      <td>46</td>\n",
       "      <td>15</td>\n",
       "      <td>17</td>\n",
       "      <td>14</td>\n",
       "      <td>53</td>\n",
       "      <td>48</td>\n",
       "      <td>-5</td>\n",
       "      <td>2004</td>\n",
       "    </tr>\n",
       "    <tr>\n",
       "      <th>41</th>\n",
       "      <td>18</td>\n",
       "      <td>São Caetano</td>\n",
       "      <td>53</td>\n",
       "      <td>46</td>\n",
       "      <td>23</td>\n",
       "      <td>8</td>\n",
       "      <td>15</td>\n",
       "      <td>65</td>\n",
       "      <td>49</td>\n",
       "      <td>15</td>\n",
       "      <td>2004</td>\n",
       "    </tr>\n",
       "  </tbody>\n",
       "</table>\n",
       "</div>"
      ],
      "text/plain": [
       "    placement         name  points  total_games  wins  draws  loses  \\\n",
       "19         20       Grêmio      50           46    13     11     22   \n",
       "35         12     Coritiba      62           46    15     17     14   \n",
       "41         18  São Caetano      53           46    23      8     15   \n",
       "\n",
       "    goals_scored  goals_conceded  goals_difference  season  \n",
       "19            54              68               -12    2003  \n",
       "35            53              48                -5    2004  \n",
       "41            65              49                15    2004  "
      ]
     },
     "execution_count": 10,
     "metadata": {},
     "output_type": "execute_result"
    }
   ],
   "source": [
    "df[df['goals_difference'] != df.goals_scored-df.goals_conceded]"
   ]
  },
  {
   "cell_type": "code",
   "execution_count": 11,
   "metadata": {},
   "outputs": [],
   "source": [
    "df['goals_difference'] = df.goals_scored-df.goals_conceded"
   ]
  },
  {
   "cell_type": "code",
   "execution_count": 12,
   "metadata": {},
   "outputs": [
    {
     "data": {
      "text/html": [
       "<div>\n",
       "<style scoped>\n",
       "    .dataframe tbody tr th:only-of-type {\n",
       "        vertical-align: middle;\n",
       "    }\n",
       "\n",
       "    .dataframe tbody tr th {\n",
       "        vertical-align: top;\n",
       "    }\n",
       "\n",
       "    .dataframe thead th {\n",
       "        text-align: right;\n",
       "    }\n",
       "</style>\n",
       "<table border=\"1\" class=\"dataframe\">\n",
       "  <thead>\n",
       "    <tr style=\"text-align: right;\">\n",
       "      <th></th>\n",
       "      <th>placement</th>\n",
       "      <th>name</th>\n",
       "      <th>points</th>\n",
       "      <th>total_games</th>\n",
       "      <th>wins</th>\n",
       "      <th>draws</th>\n",
       "      <th>loses</th>\n",
       "      <th>goals_scored</th>\n",
       "      <th>goals_conceded</th>\n",
       "      <th>goals_difference</th>\n",
       "      <th>season</th>\n",
       "    </tr>\n",
       "  </thead>\n",
       "  <tbody>\n",
       "  </tbody>\n",
       "</table>\n",
       "</div>"
      ],
      "text/plain": [
       "Empty DataFrame\n",
       "Columns: [placement, name, points, total_games, wins, draws, loses, goals_scored, goals_conceded, goals_difference, season]\n",
       "Index: []"
      ]
     },
     "execution_count": 12,
     "metadata": {},
     "output_type": "execute_result"
    }
   ],
   "source": [
    "df[df['goals_difference'] != df.goals_scored-df.goals_conceded]"
   ]
  },
  {
   "cell_type": "code",
   "execution_count": 15,
   "metadata": {},
   "outputs": [
    {
     "data": {
      "text/html": [
       "<div>\n",
       "<style scoped>\n",
       "    .dataframe tbody tr th:only-of-type {\n",
       "        vertical-align: middle;\n",
       "    }\n",
       "\n",
       "    .dataframe tbody tr th {\n",
       "        vertical-align: top;\n",
       "    }\n",
       "\n",
       "    .dataframe thead th {\n",
       "        text-align: right;\n",
       "    }\n",
       "</style>\n",
       "<table border=\"1\" class=\"dataframe\">\n",
       "  <thead>\n",
       "    <tr style=\"text-align: right;\">\n",
       "      <th></th>\n",
       "      <th>placement</th>\n",
       "      <th>name</th>\n",
       "      <th>points</th>\n",
       "      <th>total_games</th>\n",
       "      <th>wins</th>\n",
       "      <th>draws</th>\n",
       "      <th>loses</th>\n",
       "      <th>goals_scored</th>\n",
       "      <th>goals_conceded</th>\n",
       "      <th>goals_difference</th>\n",
       "      <th>season</th>\n",
       "    </tr>\n",
       "  </thead>\n",
       "  <tbody>\n",
       "    <tr>\n",
       "      <th>3</th>\n",
       "      <td>4</td>\n",
       "      <td>São Caetano</td>\n",
       "      <td>74</td>\n",
       "      <td>46</td>\n",
       "      <td>19</td>\n",
       "      <td>14</td>\n",
       "      <td>13</td>\n",
       "      <td>53</td>\n",
       "      <td>37</td>\n",
       "      <td>16</td>\n",
       "      <td>2003</td>\n",
       "    </tr>\n",
       "    <tr>\n",
       "      <th>5</th>\n",
       "      <td>6</td>\n",
       "      <td>Internacional</td>\n",
       "      <td>72</td>\n",
       "      <td>46</td>\n",
       "      <td>20</td>\n",
       "      <td>10</td>\n",
       "      <td>16</td>\n",
       "      <td>59</td>\n",
       "      <td>57</td>\n",
       "      <td>2</td>\n",
       "      <td>2003</td>\n",
       "    </tr>\n",
       "    <tr>\n",
       "      <th>14</th>\n",
       "      <td>15</td>\n",
       "      <td>Corinthians</td>\n",
       "      <td>59</td>\n",
       "      <td>46</td>\n",
       "      <td>15</td>\n",
       "      <td>12</td>\n",
       "      <td>19</td>\n",
       "      <td>61</td>\n",
       "      <td>63</td>\n",
       "      <td>-2</td>\n",
       "      <td>2003</td>\n",
       "    </tr>\n",
       "    <tr>\n",
       "      <th>17</th>\n",
       "      <td>18</td>\n",
       "      <td>Juventude</td>\n",
       "      <td>53</td>\n",
       "      <td>46</td>\n",
       "      <td>12</td>\n",
       "      <td>14</td>\n",
       "      <td>20</td>\n",
       "      <td>55</td>\n",
       "      <td>70</td>\n",
       "      <td>-15</td>\n",
       "      <td>2003</td>\n",
       "    </tr>\n",
       "    <tr>\n",
       "      <th>18</th>\n",
       "      <td>19</td>\n",
       "      <td>Fluminense</td>\n",
       "      <td>52</td>\n",
       "      <td>46</td>\n",
       "      <td>13</td>\n",
       "      <td>11</td>\n",
       "      <td>22</td>\n",
       "      <td>52</td>\n",
       "      <td>77</td>\n",
       "      <td>-25</td>\n",
       "      <td>2003</td>\n",
       "    </tr>\n",
       "    <tr>\n",
       "      <th>20</th>\n",
       "      <td>21</td>\n",
       "      <td>Ponte Preta</td>\n",
       "      <td>50</td>\n",
       "      <td>46</td>\n",
       "      <td>11</td>\n",
       "      <td>18</td>\n",
       "      <td>17</td>\n",
       "      <td>63</td>\n",
       "      <td>73</td>\n",
       "      <td>-10</td>\n",
       "      <td>2003</td>\n",
       "    </tr>\n",
       "    <tr>\n",
       "      <th>21</th>\n",
       "      <td>22</td>\n",
       "      <td>Paysandu</td>\n",
       "      <td>49</td>\n",
       "      <td>46</td>\n",
       "      <td>15</td>\n",
       "      <td>12</td>\n",
       "      <td>19</td>\n",
       "      <td>74</td>\n",
       "      <td>77</td>\n",
       "      <td>-3</td>\n",
       "      <td>2003</td>\n",
       "    </tr>\n",
       "    <tr>\n",
       "      <th>41</th>\n",
       "      <td>18</td>\n",
       "      <td>São Caetano</td>\n",
       "      <td>53</td>\n",
       "      <td>46</td>\n",
       "      <td>23</td>\n",
       "      <td>8</td>\n",
       "      <td>15</td>\n",
       "      <td>65</td>\n",
       "      <td>49</td>\n",
       "      <td>16</td>\n",
       "      <td>2004</td>\n",
       "    </tr>\n",
       "    <tr>\n",
       "      <th>169</th>\n",
       "      <td>20</td>\n",
       "      <td>Grêmio Prudente</td>\n",
       "      <td>28</td>\n",
       "      <td>38</td>\n",
       "      <td>7</td>\n",
       "      <td>10</td>\n",
       "      <td>21</td>\n",
       "      <td>39</td>\n",
       "      <td>64</td>\n",
       "      <td>-25</td>\n",
       "      <td>2010</td>\n",
       "    </tr>\n",
       "    <tr>\n",
       "      <th>268</th>\n",
       "      <td>19</td>\n",
       "      <td>Santa Cruz</td>\n",
       "      <td>28</td>\n",
       "      <td>38</td>\n",
       "      <td>8</td>\n",
       "      <td>7</td>\n",
       "      <td>23</td>\n",
       "      <td>45</td>\n",
       "      <td>69</td>\n",
       "      <td>-24</td>\n",
       "      <td>2016</td>\n",
       "    </tr>\n",
       "    <tr>\n",
       "      <th>307</th>\n",
       "      <td>18</td>\n",
       "      <td>Sport</td>\n",
       "      <td>39</td>\n",
       "      <td>38</td>\n",
       "      <td>11</td>\n",
       "      <td>9</td>\n",
       "      <td>18</td>\n",
       "      <td>35</td>\n",
       "      <td>57</td>\n",
       "      <td>-22</td>\n",
       "      <td>2018</td>\n",
       "    </tr>\n",
       "  </tbody>\n",
       "</table>\n",
       "</div>"
      ],
      "text/plain": [
       "     placement             name  points  total_games  wins  draws  loses  \\\n",
       "3            4      São Caetano      74           46    19     14     13   \n",
       "5            6    Internacional      72           46    20     10     16   \n",
       "14          15      Corinthians      59           46    15     12     19   \n",
       "17          18        Juventude      53           46    12     14     20   \n",
       "18          19       Fluminense      52           46    13     11     22   \n",
       "20          21      Ponte Preta      50           46    11     18     17   \n",
       "21          22         Paysandu      49           46    15     12     19   \n",
       "41          18      São Caetano      53           46    23      8     15   \n",
       "169         20  Grêmio Prudente      28           38     7     10     21   \n",
       "268         19       Santa Cruz      28           38     8      7     23   \n",
       "307         18            Sport      39           38    11      9     18   \n",
       "\n",
       "     goals_scored  goals_conceded  goals_difference  season  \n",
       "3              53              37                16    2003  \n",
       "5              59              57                 2    2003  \n",
       "14             61              63                -2    2003  \n",
       "17             55              70               -15    2003  \n",
       "18             52              77               -25    2003  \n",
       "20             63              73               -10    2003  \n",
       "21             74              77                -3    2003  \n",
       "41             65              49                16    2004  \n",
       "169            39              64               -25    2010  \n",
       "268            45              69               -24    2016  \n",
       "307            35              57               -22    2018  "
      ]
     },
     "execution_count": 15,
     "metadata": {},
     "output_type": "execute_result"
    }
   ],
   "source": [
    "df[df['points'] != df['wins'] * 3 + df['draws']]"
   ]
  },
  {
   "cell_type": "markdown",
   "metadata": {},
   "source": [
    "> **Obs**: The DataFrame above is correct. All of these clubs lost or gained points for off-field reasons"
   ]
  },
  {
   "cell_type": "markdown",
   "metadata": {},
   "source": [
    "### Look for clubs that have changed their name, but are the same (if exists)"
   ]
  },
  {
   "cell_type": "code",
   "execution_count": null,
   "metadata": {},
   "outputs": [
    {
     "data": {
      "text/plain": [
       "array(['Cruzeiro', 'Santos', 'São Paulo', 'São Caetano', 'Coritiba',\n",
       "       'Internacional', 'Atlético Mineiro', 'Flamengo', 'Goiás', 'Paraná',\n",
       "       'Figueirense', 'Atlético Paranaense', 'Guarani', 'Criciúma',\n",
       "       'Corinthians', 'Vitória', 'Vasco da Gama', 'Juventude',\n",
       "       'Fluminense', 'Grêmio', 'Ponte Preta', 'Paysandu', 'Fortaleza',\n",
       "       'Bahia', 'Palmeiras', 'Botafogo', 'Brasiliense', 'Santa Cruz',\n",
       "       'Sport', 'Náutico', 'América de Natal', 'Portuguesa', 'Ipatinga',\n",
       "       'Avaí', 'Grêmio Barueri', 'Athletico Paranaense', 'Santo André',\n",
       "       'Ceará', 'Atlético Goianiense', 'Grêmio Prudente',\n",
       "       'América Mineiro', 'Chapecoense', 'Joinville', 'CSA',\n",
       "       'Red Bull Bragantino', 'Cuiabá'], dtype=object)"
      ]
     },
     "execution_count": 17,
     "metadata": {},
     "output_type": "execute_result"
    }
   ],
   "source": [
    "df.name.unique()"
   ]
  },
  {
   "cell_type": "markdown",
   "metadata": {},
   "source": [
    "##### There are two clubs that need to be refactored:\n",
    "- **Atlético Paranaense** (currently is called **Athletico Paranaense**)\n",
    "- **Grêmio Prudente** (In short: The club was called Grêmio Barueri, changed the name to Grêmio Prudente, but after a year changed it back to **Grêmio Barueri**)"
   ]
  },
  {
   "cell_type": "code",
   "execution_count": 22,
   "metadata": {},
   "outputs": [],
   "source": [
    "df.loc[df['name'] == 'Atlético Paranaense', 'name'] = 'Athletico Paranaense'"
   ]
  },
  {
   "cell_type": "code",
   "execution_count": 23,
   "metadata": {},
   "outputs": [
    {
     "data": {
      "text/html": [
       "<div>\n",
       "<style scoped>\n",
       "    .dataframe tbody tr th:only-of-type {\n",
       "        vertical-align: middle;\n",
       "    }\n",
       "\n",
       "    .dataframe tbody tr th {\n",
       "        vertical-align: top;\n",
       "    }\n",
       "\n",
       "    .dataframe thead th {\n",
       "        text-align: right;\n",
       "    }\n",
       "</style>\n",
       "<table border=\"1\" class=\"dataframe\">\n",
       "  <thead>\n",
       "    <tr style=\"text-align: right;\">\n",
       "      <th></th>\n",
       "      <th>placement</th>\n",
       "      <th>name</th>\n",
       "      <th>points</th>\n",
       "      <th>total_games</th>\n",
       "      <th>wins</th>\n",
       "      <th>draws</th>\n",
       "      <th>loses</th>\n",
       "      <th>goals_scored</th>\n",
       "      <th>goals_conceded</th>\n",
       "      <th>goals_difference</th>\n",
       "      <th>season</th>\n",
       "    </tr>\n",
       "  </thead>\n",
       "  <tbody>\n",
       "  </tbody>\n",
       "</table>\n",
       "</div>"
      ],
      "text/plain": [
       "Empty DataFrame\n",
       "Columns: [placement, name, points, total_games, wins, draws, loses, goals_scored, goals_conceded, goals_difference, season]\n",
       "Index: []"
      ]
     },
     "execution_count": 23,
     "metadata": {},
     "output_type": "execute_result"
    }
   ],
   "source": [
    "df.loc[df['name'] == 'Atlético Paranaense']"
   ]
  },
  {
   "cell_type": "code",
   "execution_count": 24,
   "metadata": {},
   "outputs": [],
   "source": [
    "df.loc[df['name'] == 'Grêmio Prudente', 'name'] = 'Grêmio Barueri'"
   ]
  },
  {
   "cell_type": "code",
   "execution_count": 25,
   "metadata": {},
   "outputs": [
    {
     "data": {
      "text/html": [
       "<div>\n",
       "<style scoped>\n",
       "    .dataframe tbody tr th:only-of-type {\n",
       "        vertical-align: middle;\n",
       "    }\n",
       "\n",
       "    .dataframe tbody tr th {\n",
       "        vertical-align: top;\n",
       "    }\n",
       "\n",
       "    .dataframe thead th {\n",
       "        text-align: right;\n",
       "    }\n",
       "</style>\n",
       "<table border=\"1\" class=\"dataframe\">\n",
       "  <thead>\n",
       "    <tr style=\"text-align: right;\">\n",
       "      <th></th>\n",
       "      <th>placement</th>\n",
       "      <th>name</th>\n",
       "      <th>points</th>\n",
       "      <th>total_games</th>\n",
       "      <th>wins</th>\n",
       "      <th>draws</th>\n",
       "      <th>loses</th>\n",
       "      <th>goals_scored</th>\n",
       "      <th>goals_conceded</th>\n",
       "      <th>goals_difference</th>\n",
       "      <th>season</th>\n",
       "    </tr>\n",
       "  </thead>\n",
       "  <tbody>\n",
       "  </tbody>\n",
       "</table>\n",
       "</div>"
      ],
      "text/plain": [
       "Empty DataFrame\n",
       "Columns: [placement, name, points, total_games, wins, draws, loses, goals_scored, goals_conceded, goals_difference, season]\n",
       "Index: []"
      ]
     },
     "execution_count": 25,
     "metadata": {},
     "output_type": "execute_result"
    }
   ],
   "source": [
    "df.loc[df['name'] == 'Grêmio Prudente']"
   ]
  },
  {
   "cell_type": "code",
   "execution_count": 26,
   "metadata": {},
   "outputs": [
    {
     "data": {
      "text/plain": [
       "array(['Cruzeiro', 'Santos', 'São Paulo', 'São Caetano', 'Coritiba',\n",
       "       'Internacional', 'Atlético Mineiro', 'Flamengo', 'Goiás', 'Paraná',\n",
       "       'Figueirense', 'Athletico Paranaense', 'Guarani', 'Criciúma',\n",
       "       'Corinthians', 'Vitória', 'Vasco da Gama', 'Juventude',\n",
       "       'Fluminense', 'Grêmio', 'Ponte Preta', 'Paysandu', 'Fortaleza',\n",
       "       'Bahia', 'Palmeiras', 'Botafogo', 'Brasiliense', 'Santa Cruz',\n",
       "       'Sport', 'Náutico', 'América de Natal', 'Portuguesa', 'Ipatinga',\n",
       "       'Avaí', 'Grêmio Barueri', 'Santo André', 'Ceará',\n",
       "       'Atlético Goianiense', 'América Mineiro', 'Chapecoense',\n",
       "       'Joinville', 'CSA', 'Red Bull Bragantino', 'Cuiabá'], dtype=object)"
      ]
     },
     "execution_count": 26,
     "metadata": {},
     "output_type": "execute_result"
    }
   ],
   "source": [
    "df.name.unique()"
   ]
  },
  {
   "cell_type": "markdown",
   "metadata": {},
   "source": [
    "### Calculate 'Winning Percentage' of each row and add it to the DataFrame"
   ]
  },
  {
   "cell_type": "code",
   "execution_count": 31,
   "metadata": {},
   "outputs": [],
   "source": [
    "winning_percentage_series = ((df['points'] / (df['total_games'] * 3)) * 100).round(2)\n",
    "df['winning_percentage'] = winning_percentage_series"
   ]
  },
  {
   "cell_type": "code",
   "execution_count": 32,
   "metadata": {},
   "outputs": [
    {
     "data": {
      "text/html": [
       "<div>\n",
       "<style scoped>\n",
       "    .dataframe tbody tr th:only-of-type {\n",
       "        vertical-align: middle;\n",
       "    }\n",
       "\n",
       "    .dataframe tbody tr th {\n",
       "        vertical-align: top;\n",
       "    }\n",
       "\n",
       "    .dataframe thead th {\n",
       "        text-align: right;\n",
       "    }\n",
       "</style>\n",
       "<table border=\"1\" class=\"dataframe\">\n",
       "  <thead>\n",
       "    <tr style=\"text-align: right;\">\n",
       "      <th></th>\n",
       "      <th>placement</th>\n",
       "      <th>name</th>\n",
       "      <th>points</th>\n",
       "      <th>total_games</th>\n",
       "      <th>wins</th>\n",
       "      <th>draws</th>\n",
       "      <th>loses</th>\n",
       "      <th>goals_scored</th>\n",
       "      <th>goals_conceded</th>\n",
       "      <th>goals_difference</th>\n",
       "      <th>season</th>\n",
       "      <th>winning_percentage</th>\n",
       "    </tr>\n",
       "  </thead>\n",
       "  <tbody>\n",
       "    <tr>\n",
       "      <th>0</th>\n",
       "      <td>1</td>\n",
       "      <td>Cruzeiro</td>\n",
       "      <td>100</td>\n",
       "      <td>46</td>\n",
       "      <td>31</td>\n",
       "      <td>7</td>\n",
       "      <td>8</td>\n",
       "      <td>102</td>\n",
       "      <td>47</td>\n",
       "      <td>55</td>\n",
       "      <td>2003</td>\n",
       "      <td>72.46</td>\n",
       "    </tr>\n",
       "    <tr>\n",
       "      <th>1</th>\n",
       "      <td>2</td>\n",
       "      <td>Santos</td>\n",
       "      <td>87</td>\n",
       "      <td>46</td>\n",
       "      <td>25</td>\n",
       "      <td>12</td>\n",
       "      <td>9</td>\n",
       "      <td>93</td>\n",
       "      <td>60</td>\n",
       "      <td>33</td>\n",
       "      <td>2003</td>\n",
       "      <td>63.04</td>\n",
       "    </tr>\n",
       "    <tr>\n",
       "      <th>2</th>\n",
       "      <td>3</td>\n",
       "      <td>São Paulo</td>\n",
       "      <td>78</td>\n",
       "      <td>46</td>\n",
       "      <td>22</td>\n",
       "      <td>12</td>\n",
       "      <td>12</td>\n",
       "      <td>81</td>\n",
       "      <td>67</td>\n",
       "      <td>14</td>\n",
       "      <td>2003</td>\n",
       "      <td>56.52</td>\n",
       "    </tr>\n",
       "    <tr>\n",
       "      <th>3</th>\n",
       "      <td>4</td>\n",
       "      <td>São Caetano</td>\n",
       "      <td>74</td>\n",
       "      <td>46</td>\n",
       "      <td>19</td>\n",
       "      <td>14</td>\n",
       "      <td>13</td>\n",
       "      <td>53</td>\n",
       "      <td>37</td>\n",
       "      <td>16</td>\n",
       "      <td>2003</td>\n",
       "      <td>53.62</td>\n",
       "    </tr>\n",
       "    <tr>\n",
       "      <th>4</th>\n",
       "      <td>5</td>\n",
       "      <td>Coritiba</td>\n",
       "      <td>73</td>\n",
       "      <td>46</td>\n",
       "      <td>21</td>\n",
       "      <td>10</td>\n",
       "      <td>15</td>\n",
       "      <td>67</td>\n",
       "      <td>58</td>\n",
       "      <td>9</td>\n",
       "      <td>2003</td>\n",
       "      <td>52.90</td>\n",
       "    </tr>\n",
       "  </tbody>\n",
       "</table>\n",
       "</div>"
      ],
      "text/plain": [
       "   placement         name  points  total_games  wins  draws  loses  \\\n",
       "0          1     Cruzeiro     100           46    31      7      8   \n",
       "1          2       Santos      87           46    25     12      9   \n",
       "2          3    São Paulo      78           46    22     12     12   \n",
       "3          4  São Caetano      74           46    19     14     13   \n",
       "4          5     Coritiba      73           46    21     10     15   \n",
       "\n",
       "   goals_scored  goals_conceded  goals_difference  season  winning_percentage  \n",
       "0           102              47                55    2003               72.46  \n",
       "1            93              60                33    2003               63.04  \n",
       "2            81              67                14    2003               56.52  \n",
       "3            53              37                16    2003               53.62  \n",
       "4            67              58                 9    2003               52.90  "
      ]
     },
     "execution_count": 32,
     "metadata": {},
     "output_type": "execute_result"
    }
   ],
   "source": [
    "df.head()"
   ]
  },
  {
   "cell_type": "markdown",
   "metadata": {},
   "source": [
    "### Look for null or duplicated rows"
   ]
  },
  {
   "cell_type": "code",
   "execution_count": 46,
   "metadata": {},
   "outputs": [
    {
     "data": {
      "text/plain": [
       "placement               0\n",
       "name                    0\n",
       "points                  0\n",
       "total_games             0\n",
       "wins                    0\n",
       "draws                   0\n",
       "loses                   0\n",
       "goals_scored            0\n",
       "goals_conceded          0\n",
       "goals_difference        0\n",
       "season                  0\n",
       "winning_percentage    0.0\n",
       "dtype: object"
      ]
     },
     "execution_count": 46,
     "metadata": {},
     "output_type": "execute_result"
    }
   ],
   "source": [
    "df[df.isna().any(axis=1)].sum()"
   ]
  },
  {
   "cell_type": "code",
   "execution_count": 47,
   "metadata": {},
   "outputs": [
    {
     "data": {
      "text/plain": [
       "placement               0\n",
       "name                    0\n",
       "points                  0\n",
       "total_games             0\n",
       "wins                    0\n",
       "draws                   0\n",
       "loses                   0\n",
       "goals_scored            0\n",
       "goals_conceded          0\n",
       "goals_difference        0\n",
       "season                  0\n",
       "winning_percentage    0.0\n",
       "dtype: object"
      ]
     },
     "execution_count": 47,
     "metadata": {},
     "output_type": "execute_result"
    }
   ],
   "source": [
    "df[df.duplicated()].sum()"
   ]
  },
  {
   "cell_type": "markdown",
   "metadata": {},
   "source": [
    "### Save transformed data"
   ]
  },
  {
   "cell_type": "code",
   "execution_count": 48,
   "metadata": {},
   "outputs": [],
   "source": [
    "path_to_save = \"../data/transformed.csv\"\n",
    "df.to_csv(path_to_save, index=False)"
   ]
  },
  {
   "cell_type": "code",
   "execution_count": null,
   "metadata": {},
   "outputs": [],
   "source": []
  }
 ],
 "metadata": {
  "kernelspec": {
   "display_name": "brasileirao_etl",
   "language": "python",
   "name": "brasileirao_etl"
  },
  "language_info": {
   "codemirror_mode": {
    "name": "ipython",
    "version": 3
   },
   "file_extension": ".py",
   "mimetype": "text/x-python",
   "name": "python",
   "nbconvert_exporter": "python",
   "pygments_lexer": "ipython3",
   "version": "3.13.2"
  }
 },
 "nbformat": 4,
 "nbformat_minor": 2
}
